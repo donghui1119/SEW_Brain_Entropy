{
 "cells": [
  {
   "cell_type": "markdown",
   "id": "f11d248e",
   "metadata": {},
   "source": [
    "# Distance Measures\n",
    "**Euclidean Distance,Chebyshev Distance and Manhattan Distance**\n",
    "<div class=\"altert alert-info\"><h4> Information</h4>\n",
    "    \n",
    " <li>Author: DongHui Song</li>\n",
    " <li>email:donghuipsy@gmail.com</li>\n",
    "\n",
    " <li>Homepage:https://donghui1119.github.io/donghui/</li>\n",
    "    "
   ]
  },
  {
   "cell_type": "code",
   "execution_count": 46,
   "id": "5b8728e0",
   "metadata": {},
   "outputs": [],
   "source": [
    "#Data\n",
    "import numpy as np\n",
    "from math import *\n",
    "\n",
    "x=np.array([1,1])\n",
    "y=np.array([4,4])\n",
    "z=np.array([8,8])"
   ]
  },
  {
   "cell_type": "markdown",
   "id": "0c770ae5",
   "metadata": {},
   "source": [
    "<H3>1.Euclidean Distance</H3>"
   ]
  },
  {
   "cell_type": "markdown",
   "id": "9544a5d1",
   "metadata": {},
   "source": [
    "Equation in Two Dimensions Space\n",
    "$$Euclidean Distance=\\sqrt{(x_2^2-x_1^2)+(y_2^2-y_1^2)}$$"
   ]
  },
  {
   "cell_type": "code",
   "execution_count": 40,
   "id": "5b5bb950",
   "metadata": {},
   "outputs": [
    {
     "name": "stdout",
     "output_type": "stream",
     "text": [
      "Euclidean Distance(x,y) = 4.242640687119285\n",
      "Euclidean Distance(x,z) = 9.899494936611665\n"
     ]
    }
   ],
   "source": [
    "xyED=sqrt(sum(pow(xi-yi,2) for xi,yi in zip(x,y)))\n",
    "xzED=sqrt(sum(pow(xi-zi,2) for xi,zi in zip(x,z)))\n",
    "print(\"Euclidean Distance (x,y) = \"+str(xyED))\n",
    "print(\"Euclidean Distance (x,z) = \"+str(xzED))"
   ]
  },
  {
   "cell_type": "markdown",
   "id": "19e26080",
   "metadata": {},
   "source": [
    "<H3>2.Chebyshev Distance</H3>"
   ]
  },
  {
   "cell_type": "markdown",
   "id": "d8bb0917",
   "metadata": {},
   "source": [
    "Equation in Two Dimensions Space\n",
    "$$Chebyshev Distance=max(| x_2-x_1 | , | y_2-y_1 | )$$"
   ]
  },
  {
   "cell_type": "code",
   "execution_count": 54,
   "id": "8d5c49bb",
   "metadata": {
    "scrolled": true
   },
   "outputs": [
    {
     "name": "stdout",
     "output_type": "stream",
     "text": [
      "Chebyshev Distance (x,y) = 3\n",
      "Chebyshev Distance (x,z) = 7\n"
     ]
    }
   ],
   "source": [
    "# calculate in python\n",
    "xyCD=abs(x-y).max()\n",
    "xzCD=abs(x-z).max()\n",
    "print(\"Chebyshev Distance (x,y) = \"+str(xyCD))\n",
    "print(\"Chebyshev Distance (x,z) = \"+str(xzCD))"
   ]
  },
  {
   "cell_type": "markdown",
   "id": "0b47cb0b",
   "metadata": {},
   "source": [
    "<H3>3.Manhattan Distance</H3>"
   ]
  },
  {
   "cell_type": "markdown",
   "id": "0cf69af3",
   "metadata": {},
   "source": [
    "Equation in Two Dimensions Space\n",
    "$$Manhattan Distance=|x_2-x_1|+|y_2-y_1|$$"
   ]
  },
  {
   "cell_type": "code",
   "execution_count": 43,
   "id": "353f40b6",
   "metadata": {},
   "outputs": [
    {
     "name": "stdout",
     "output_type": "stream",
     "text": [
      "Manhattan Distance = 6\n",
      "Manhattan Distance = 14\n"
     ]
    }
   ],
   "source": [
    "# calculate in python\n",
    "xyMD=sum(abs(x-y))\n",
    "xzMD=sum(abs(x-z))\n",
    "print(\"Manhattan Distance = \"+str(xyMD))\n",
    "print(\"Manhattan Distance = \"+str(xzMD))"
   ]
  },
  {
   "cell_type": "code",
   "execution_count": null,
   "id": "8516847e",
   "metadata": {},
   "outputs": [],
   "source": []
  }
 ],
 "metadata": {
  "kernelspec": {
   "display_name": "Python 3 (ipykernel)",
   "language": "python",
   "name": "python3"
  },
  "language_info": {
   "codemirror_mode": {
    "name": "ipython",
    "version": 3
   },
   "file_extension": ".py",
   "mimetype": "text/x-python",
   "name": "python",
   "nbconvert_exporter": "python",
   "pygments_lexer": "ipython3",
   "version": "3.9.7"
  }
 },
 "nbformat": 4,
 "nbformat_minor": 5
}

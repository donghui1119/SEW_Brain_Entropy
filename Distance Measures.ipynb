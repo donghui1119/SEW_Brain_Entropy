{
 "cells": [
  {
   "cell_type": "markdown",
   "id": "5274cd5f",
   "metadata": {},
   "source": [
    "# Distance Measures\n",
    "**Euclidean Distance,Chebyshev Distance and Manhattan Distance**\n",
    "<div class=\"altert alert-info\"><h4> Information</h4>\n",
    "    \n",
    " <li>Author: DongHui Song</li>\n",
    " <li>email:donghuipsy@gmail.com</li>\n",
    "\n",
    " <li>Homepage:https://donghui1119.github.io/donghui/</li>\n",
    "    "
   ]
  },
  {
   "cell_type": "markdown",
   "id": "1be87342",
   "metadata": {},
   "source": [
    "<H3>1.Euclidean Distance</H3>"
   ]
  },
  {
   "attachments": {},
   "cell_type": "markdown",
   "id": "0b3812dc",
   "metadata": {},
   "source": [
    "Equation in Two Dimensions Space\n",
    "$$Euclidean Distance=\\sqrt{(x_2^2-x_1^2)+(y_2^2-y_1^2)}$$"
   ]
  },
  {
   "cell_type": "code",
   "execution_count": 31,
   "id": "6ff9aa07",
   "metadata": {},
   "outputs": [
    {
     "name": "stdout",
     "output_type": "stream",
     "text": [
      "Euclidean Distance = 5.0\n"
     ]
    }
   ],
   "source": [
    "# calculate in python\n",
    "import numpy as np\n",
    "from math import *\n",
    "\n",
    "x=np.array([1,1])\n",
    "y=np.array([4,5])\n",
    "\n",
    "ED=sqrt(sum(pow(xi-yi,2) for xi,yi in zip(x,y)))\n",
    "\n",
    "print(\"Euclidean Distance = \"+str(ED))"
   ]
  },
  {
   "cell_type": "markdown",
   "id": "a9a81094",
   "metadata": {},
   "source": [
    "<H3>2.Chebyshev Distance</H3>"
   ]
  },
  {
   "attachments": {},
   "cell_type": "markdown",
   "id": "f80d64d2",
   "metadata": {},
   "source": [
    "Equation in Two Dimensions Space\n",
    "$$Chebyshev Distance=max(| x_2-x_1 | , | y_2-y_1 | )$$"
   ]
  },
  {
   "cell_type": "code",
   "execution_count": 32,
   "id": "e6beaa73",
   "metadata": {},
   "outputs": [
    {
     "name": "stdout",
     "output_type": "stream",
     "text": [
      "Chebyshev Distance = 4\n"
     ]
    }
   ],
   "source": [
    "# calculate in python\n",
    "CD=abs(x-y).max()\n",
    "print(\"Chebyshev Distance = \"+str(CD))"
   ]
  },
  {
   "cell_type": "markdown",
   "id": "9e1bab6f",
   "metadata": {},
   "source": [
    "<H3>3.Manhattan Distance</H3>"
   ]
  },
  {
   "attachments": {},
   "cell_type": "markdown",
   "id": "b7577765",
   "metadata": {},
   "source": [
    "Equation in Two Dimensions Space\n",
    "$$Manhattan Distance=|x_2-x_1|+|y_2-y_1|$$"
   ]
  },
  {
   "cell_type": "code",
   "execution_count": 33,
   "id": "53d32541",
   "metadata": {},
   "outputs": [
    {
     "name": "stdout",
     "output_type": "stream",
     "text": [
      "Manhattan Distance = 7\n"
     ]
    }
   ],
   "source": [
    "# calculate in python\n",
    "MD=sum(abs(x-y))\n",
    "print(\"Manhattan Distance = \"+str(MD))"
   ]
  }
 ],
 "metadata": {
  "kernelspec": {
   "display_name": "Python 3 (ipykernel)",
   "language": "python",
   "name": "python3"
  },
  "language_info": {
   "codemirror_mode": {
    "name": "ipython",
    "version": 3
   },
   "file_extension": ".py",
   "mimetype": "text/x-python",
   "name": "python",
   "nbconvert_exporter": "python",
   "pygments_lexer": "ipython3",
   "version": "3.9.7"
  }
 },
 "nbformat": 4,
 "nbformat_minor": 5
}
